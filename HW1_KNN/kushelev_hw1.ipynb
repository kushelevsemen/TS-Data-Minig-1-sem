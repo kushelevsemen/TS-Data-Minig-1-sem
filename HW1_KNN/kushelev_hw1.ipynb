{
 "cells": [
  {
   "cell_type": "markdown",
   "metadata": {},
   "source": [
    "**Общая информация**\n",
    "\n",
    "**Срок сдачи:** 18 октября 2017, 06:00 <br\\>\n",
    "**Штраф за опоздание:** -2 балла после 06:00 18 октября, -4 балла после 06:00 25 октября, -6 баллов после 06:00 1 ноября\n",
    "\n",
    "При отправлении ДЗ указывайте фамилию в названии файла\n",
    "Присылать ДЗ необходимо в виде ссылки на свой github репозиторий в slack @alkhamush\n",
    "\n",
    "Необходимо в slack создать таск в приватный чат:\n",
    "/todo Фамилия Имя ссылка на гитхаб @alkhamush\n",
    "Пример:\n",
    "/todo Ксения Стройкова https://github.com/stroykova/spheremailru/stroykova_hw1.ipynb @alkhamush\n",
    "Дополнительно нужно просто скинуть ссылку в slack в личный чат\n",
    "\n",
    "Используйте данный Ipython Notebook при оформлении домашнего задания."
   ]
  },
  {
   "cell_type": "markdown",
   "metadata": {},
   "source": [
    "###### Задание 1 (2 баллов)\n",
    "Реализовать KNN в классе MyKNeighborsClassifier (обязательное условие: точность не ниже sklearn реализации)\n",
    "Разберитесь самостоятельно, какая мера расстояния используется в KNeighborsClassifier дефолтно и реализуйте свой алгоритм именно с этой мерой. Самостоятельно разберитесь, как считается score из KNeighborsClassifier и реализуйте аналог в своём классе. Score не должен уступать значению KNN из sklearn\n",
    "\n",
    "###### Задание 2 (2 балла)\n",
    "Добиться скорости работы на fit,  predict и predict_proba сравнимой со sklearn для iris и mnist\n",
    "Для этого используем numpy\n",
    "\n",
    "###### Задание 3 (2 балла)\n",
    "Для iris найдите такой параметр n_neighbors, при котором выдаётся наилучший score. Нарисуйте график зависимости score от n_neighbors\n",
    "\n",
    "###### Задание 4 (3 балла)\n",
    "Добавить algorithm='kd_tree' в реализацию KNN (использовать KDTree из sklearn.neighbors). Значение n_neighbors нужно взять из задания 3. Добиться скорости работы на fit,  predict и predict_proba сравнимой со sklearn для iris и mnist\n",
    "Для этого используем numpy. Score не должен уступать значению KNN из sklearn\n",
    "\n",
    "###### Задание 5 (1 балла)\n",
    "Описать для чего нужны следующие библиотеки/классы/функции (список будет ниже)\n",
    "\n",
    "**Штрафные баллы:**\n",
    "\n",
    "1. Невыполнение PEP8 -1 балл\n",
    "2. Отсутствие фамилии в имени скрипта (скрипт должен называться по аналогии со stroykova_hw1.ipynb) -1 балл\n",
    "3. Все строчки должны быть выполнены. Нужно, чтобы output команды можно было увидеть уже в git'е. В противном случае -1 балл\n",
    "4. При оформлении ДЗ нужно пользоваться данным файлом в качестве шаблона. Не нужно удалять и видоизменять структуру кода и текст. В противном случае -1 балл\n"
   ]
  },
  {
   "cell_type": "code",
   "execution_count": 287,
   "metadata": {},
   "outputs": [
    {
     "name": "stdout",
     "output_type": "stream",
     "text": [
      "The pycodestyle_magic extension is already loaded. To reload it, use:\n",
      "  %reload_ext pycodestyle_magic\n"
     ]
    }
   ],
   "source": [
    "import numpy as np\n",
    "import matplotlib.pyplot as plt\n",
    "\n",
    "import seaborn as sns\n",
    "import sklearn.metrics\n",
    "from sklearn import datasets\n",
    "from sklearn.base import ClassifierMixin\n",
    "from sklearn.datasets import fetch_mldata\n",
    "from sklearn.neighbors.base import NeighborsBase, KNeighborsMixin, SupervisedIntegerMixin \n",
    "from sklearn.model_selection import train_test_split\n",
    "from sklearn.neighbors import KNeighborsClassifier\n",
    "from sklearn.neighbors import KDTree\n",
    "%load_ext pycodestyle_magic"
   ]
  },
  {
   "cell_type": "code",
   "execution_count": 317,
   "metadata": {},
   "outputs": [],
   "source": [
    "#%%pycodestyle\n",
    "\n",
    "\n",
    "class MyKNeighborsClassifier(NeighborsBase, KNeighborsMixin,\n",
    "                             SupervisedIntegerMixin, ClassifierMixin):\n",
    "\n",
    "    def __init__(self, n_neighbors, algorithm='brute'):\n",
    "        self.K = n_neighbors\n",
    "        self.alg = algorithm\n",
    "\n",
    "    def fit(self, X, y):\n",
    "        self.size = len(y)\n",
    "        self.X_train = X\n",
    "        self.y_train = y\n",
    "        self.classes = np.unique(y)\n",
    "        self.classes_num = len(np.unique(y))\n",
    "        if self.alg == 'kd_tree':\n",
    "            self.tree = KDTree(X)\n",
    "\n",
    "    def predict(self, X):\n",
    "        size_pr = X.shape[0]\n",
    "        y_pr = np.zeros([size_pr])\n",
    "        if self.alg == 'brute':\n",
    "            dist_matrix = sklearn.metrics.pairwise_distances(X,\n",
    "                                                             self.X_train)\n",
    "            nei_position = np.argpartition(dist_matrix,\n",
    "                                           (range(self.K)), axis=1)\n",
    "            nei_position = nei_position[:, :self.K]\n",
    "        if self.alg == 'kd_tree':\n",
    "            nei_position = self.tree.query(X, k=self.K, return_distance=False)\n",
    "        nei_y = self.y_train[nei_position]\n",
    "        for i in range(nei_y.shape[0]):\n",
    "            s, p = np.unique(nei_y[i, :], return_counts=True)\n",
    "            y_pr[i] = s[np.argmax(p)]\n",
    "        return y_pr\n",
    "\n",
    "    def predict_proba(self, X):\n",
    "        size_pr = X.shape[0]\n",
    "        y_pr = np.zeros([size_pr, self.classes_num])\n",
    "        if self.alg == 'brute':\n",
    "            dist_matrix = sklearn.metrics.pairwise_distances(X, self.X_train)\n",
    "            nei_position = np.argpartition(dist_matrix,\n",
    "                                           (range(self.K)), axis=1)\n",
    "            nei_position = nei_position[:, :self.K]\n",
    "        if self.alg == 'kd_tree':\n",
    "            nei_position = self.tree.query(X, k=self.K, return_distance=False)\n",
    "        nei_y = self.y_train[nei_position]\n",
    "        for i in range(nei_y.shape[0]):\n",
    "            s, p = np.unique(nei_y[i, :], return_counts=True)\n",
    "            y_pr[i, s.astype(int)] = p/self.K\n",
    "        return y_pr\n",
    "\n",
    "    def score(self, X, y):\n",
    "        y_pr = self.predict(X)\n",
    "        residual = y_pr - y\n",
    "        err = np.linalg.norm(residual, 0)/len(y)\n",
    "        return 1 - err\n"
   ]
  },
  {
   "cell_type": "markdown",
   "metadata": {},
   "source": [
    "**IRIS**"
   ]
  },
  {
   "cell_type": "code",
   "execution_count": 300,
   "metadata": {},
   "outputs": [],
   "source": [
    "iris = datasets.load_iris()"
   ]
  },
  {
   "cell_type": "code",
   "execution_count": 301,
   "metadata": {},
   "outputs": [],
   "source": [
    "X_train, X_test, y_train, y_test = train_test_split(iris.data, iris.target, test_size=0.1, stratify=iris.target)"
   ]
  },
  {
   "cell_type": "code",
   "execution_count": 265,
   "metadata": {},
   "outputs": [],
   "source": [
    "clf = KNeighborsClassifier(n_neighbors=2, algorithm='brute')\n",
    "my_clf = MyKNeighborsClassifier(n_neighbors=2, algorithm='brute')"
   ]
  },
  {
   "cell_type": "code",
   "execution_count": 267,
   "metadata": {},
   "outputs": [
    {
     "name": "stdout",
     "output_type": "stream",
     "text": [
      "CPU times: user 3.16 ms, sys: 53 µs, total: 3.21 ms\n",
      "Wall time: 2.26 ms\n"
     ]
    },
    {
     "data": {
      "text/plain": [
       "KNeighborsClassifier(algorithm='brute', leaf_size=30, metric='minkowski',\n",
       "           metric_params=None, n_jobs=1, n_neighbors=2, p=2,\n",
       "           weights='uniform')"
      ]
     },
     "execution_count": 267,
     "metadata": {},
     "output_type": "execute_result"
    }
   ],
   "source": [
    "%time clf.fit(X_train, y_train)"
   ]
  },
  {
   "cell_type": "code",
   "execution_count": 268,
   "metadata": {},
   "outputs": [
    {
     "name": "stdout",
     "output_type": "stream",
     "text": [
      "CPU times: user 1.03 ms, sys: 17 µs, total: 1.05 ms\n",
      "Wall time: 668 µs\n"
     ]
    }
   ],
   "source": [
    "%time my_clf.fit(X_train, y_train)"
   ]
  },
  {
   "cell_type": "code",
   "execution_count": 273,
   "metadata": {},
   "outputs": [
    {
     "name": "stdout",
     "output_type": "stream",
     "text": [
      "CPU times: user 4.48 ms, sys: 75 µs, total: 4.56 ms\n",
      "Wall time: 3.82 ms\n"
     ]
    },
    {
     "data": {
      "text/plain": [
       "array([0, 0, 2, 1, 2, 2, 0, 0, 2, 1, 0, 2, 1, 1, 2])"
      ]
     },
     "execution_count": 273,
     "metadata": {},
     "output_type": "execute_result"
    }
   ],
   "source": [
    "%time clf.predict(X_test)"
   ]
  },
  {
   "cell_type": "code",
   "execution_count": 278,
   "metadata": {},
   "outputs": [
    {
     "name": "stdout",
     "output_type": "stream",
     "text": [
      "CPU times: user 5.37 ms, sys: 0 ns, total: 5.37 ms\n",
      "Wall time: 4.45 ms\n"
     ]
    },
    {
     "data": {
      "text/plain": [
       "array([0., 0., 2., 1., 2., 2., 0., 0., 2., 1., 0., 2., 1., 1., 2.])"
      ]
     },
     "execution_count": 278,
     "metadata": {},
     "output_type": "execute_result"
    }
   ],
   "source": [
    "%time my_clf.predict(X_test)"
   ]
  },
  {
   "cell_type": "code",
   "execution_count": 280,
   "metadata": {},
   "outputs": [
    {
     "name": "stdout",
     "output_type": "stream",
     "text": [
      "CPU times: user 4.83 ms, sys: 81 µs, total: 4.91 ms\n",
      "Wall time: 4.27 ms\n"
     ]
    },
    {
     "data": {
      "text/plain": [
       "array([[1., 0., 0.],\n",
       "       [1., 0., 0.],\n",
       "       [0., 0., 1.],\n",
       "       [0., 1., 0.],\n",
       "       [0., 0., 1.],\n",
       "       [0., 0., 1.],\n",
       "       [1., 0., 0.],\n",
       "       [1., 0., 0.],\n",
       "       [0., 0., 1.],\n",
       "       [0., 1., 0.],\n",
       "       [1., 0., 0.],\n",
       "       [0., 0., 1.],\n",
       "       [0., 1., 0.],\n",
       "       [0., 1., 0.],\n",
       "       [0., 0., 1.]])"
      ]
     },
     "execution_count": 280,
     "metadata": {},
     "output_type": "execute_result"
    }
   ],
   "source": [
    "%time clf.predict_proba(X_test)"
   ]
  },
  {
   "cell_type": "code",
   "execution_count": 281,
   "metadata": {},
   "outputs": [
    {
     "name": "stdout",
     "output_type": "stream",
     "text": [
      "CPU times: user 7.74 ms, sys: 0 ns, total: 7.74 ms\n",
      "Wall time: 5.89 ms\n"
     ]
    },
    {
     "data": {
      "text/plain": [
       "array([[1., 0., 0.],\n",
       "       [1., 0., 0.],\n",
       "       [0., 0., 1.],\n",
       "       [0., 1., 0.],\n",
       "       [0., 0., 1.],\n",
       "       [0., 0., 1.],\n",
       "       [1., 0., 0.],\n",
       "       [1., 0., 0.],\n",
       "       [0., 0., 1.],\n",
       "       [0., 1., 0.],\n",
       "       [1., 0., 0.],\n",
       "       [0., 0., 1.],\n",
       "       [0., 1., 0.],\n",
       "       [0., 1., 0.],\n",
       "       [0., 0., 1.]])"
      ]
     },
     "execution_count": 281,
     "metadata": {},
     "output_type": "execute_result"
    }
   ],
   "source": [
    "%time my_clf.predict_proba(X_test)"
   ]
  },
  {
   "cell_type": "code",
   "execution_count": 282,
   "metadata": {},
   "outputs": [
    {
     "data": {
      "text/plain": [
       "0.9333333333333333"
      ]
     },
     "execution_count": 282,
     "metadata": {},
     "output_type": "execute_result"
    }
   ],
   "source": [
    "clf.score(X_test, y_test)"
   ]
  },
  {
   "cell_type": "code",
   "execution_count": 283,
   "metadata": {},
   "outputs": [
    {
     "data": {
      "text/plain": [
       "0.9333333333333333"
      ]
     },
     "execution_count": 283,
     "metadata": {},
     "output_type": "execute_result"
    }
   ],
   "source": [
    "my_clf.score(X_test, y_test)"
   ]
  },
  {
   "cell_type": "markdown",
   "metadata": {},
   "source": [
    "Задание 3"
   ]
  },
  {
   "cell_type": "code",
   "execution_count": 302,
   "metadata": {},
   "outputs": [
    {
     "data": {
      "text/plain": [
       "[<matplotlib.lines.Line2D at 0x7f47185f6668>]"
      ]
     },
     "execution_count": 302,
     "metadata": {},
     "output_type": "execute_result"
    },
    {
     "data": {
      "image/png": "[encoded data removed]",
      "text/plain": [
       "<Figure size 432x288 with 1 Axes>"
      ]
     },
     "metadata": {
      "needs_background": "light"
     },
     "output_type": "display_data"
    }
   ],
   "source": [
    "#%%pycodestyle\n",
    "n_neighbors = range(1, 100)\n",
    "scores = [0]*len(n_neighbors)\n",
    "for nn in n_neighbors:\n",
    "    knn = MyKNeighborsClassifier(n_neighbors=nn)\n",
    "    knn.fit(X_train, y_train)\n",
    "    scores[nn-1] = knn.score(X_test, y_test)\n",
    "plt.plot(n_neighbors, scores)"
   ]
  },
  {
   "cell_type": "markdown",
   "metadata": {},
   "source": [
    "**MNIST**"
   ]
  },
  {
   "cell_type": "code",
   "execution_count": 158,
   "metadata": {},
   "outputs": [],
   "source": [
    "mnist = fetch_mldata('MNIST original')"
   ]
  },
  {
   "cell_type": "code",
   "execution_count": 159,
   "metadata": {},
   "outputs": [],
   "source": [
    "X_train, X_test, y_train, y_test = train_test_split(mnist.data, mnist.target, test_size=0.01, stratify=mnist.target)"
   ]
  },
  {
   "cell_type": "code",
   "execution_count": 160,
   "metadata": {},
   "outputs": [],
   "source": [
    "clf = KNeighborsClassifier(n_neighbors=2, algorithm='brute')\n",
    "my_clf = MyKNeighborsClassifier(n_neighbors=2)"
   ]
  },
  {
   "cell_type": "code",
   "execution_count": 161,
   "metadata": {},
   "outputs": [
    {
     "name": "stdout",
     "output_type": "stream",
     "text": [
      "CPU times: user 17.2 ms, sys: 149 µs, total: 17.4 ms\n",
      "Wall time: 15.8 ms\n"
     ]
    },
    {
     "data": {
      "text/plain": [
       "KNeighborsClassifier(algorithm='brute', leaf_size=30, metric='minkowski',\n",
       "           metric_params=None, n_jobs=1, n_neighbors=2, p=2,\n",
       "           weights='uniform')"
      ]
     },
     "execution_count": 161,
     "metadata": {},
     "output_type": "execute_result"
    }
   ],
   "source": [
    "%time clf.fit(X_train, y_train)"
   ]
  },
  {
   "cell_type": "code",
   "execution_count": 162,
   "metadata": {},
   "outputs": [
    {
     "name": "stdout",
     "output_type": "stream",
     "text": [
      "CPU times: user 15.2 ms, sys: 3.91 ms, total: 19.1 ms\n",
      "Wall time: 17 ms\n"
     ]
    }
   ],
   "source": [
    "%time my_clf.fit(X_train, y_train)"
   ]
  },
  {
   "cell_type": "code",
   "execution_count": 163,
   "metadata": {},
   "outputs": [
    {
     "name": "stdout",
     "output_type": "stream",
     "text": [
      "CPU times: user 3 s, sys: 411 ms, total: 3.41 s\n",
      "Wall time: 2.12 s\n"
     ]
    },
    {
     "data": {
      "text/plain": [
       "array([9., 6., 2., 7., 6., 3., 6., 1., 1., 3., 7., 1., 6., 5., 1., 1., 0.,\n",
       "       9., 6., 6., 4., 9., 1., 0., 3., 3., 0., 1., 8., 9., 2., 6., 1., 8.,\n",
       "       0., 3., 3., 2., 6., 3., 7., 8., 7., 2., 5., 6., 4., 4., 5., 7., 0.,\n",
       "       3., 6., 8., 3., 1., 8., 8., 9., 7., 2., 0., 1., 1., 8., 7., 0., 9.,\n",
       "       9., 2., 4., 5., 2., 5., 1., 7., 3., 7., 3., 7., 3., 0., 3., 8., 4.,\n",
       "       4., 3., 5., 9., 2., 9., 8., 6., 5., 4., 9., 7., 3., 5., 6., 9., 6.,\n",
       "       3., 2., 6., 0., 2., 1., 4., 2., 0., 2., 1., 1., 0., 8., 5., 6., 6.,\n",
       "       3., 7., 4., 1., 0., 3., 1., 8., 9., 6., 6., 4., 8., 6., 1., 0., 2.,\n",
       "       5., 4., 8., 6., 8., 9., 0., 8., 9., 5., 9., 3., 6., 9., 1., 7., 2.,\n",
       "       2., 5., 8., 5., 2., 8., 1., 8., 4., 7., 3., 1., 4., 0., 2., 6., 3.,\n",
       "       1., 8., 4., 6., 9., 0., 4., 5., 4., 7., 0., 5., 7., 1., 7., 9., 0.,\n",
       "       5., 8., 7., 8., 6., 8., 4., 8., 1., 2., 4., 3., 5., 5., 5., 1., 7.,\n",
       "       6., 1., 1., 2., 1., 9., 5., 9., 0., 9., 2., 7., 9., 7., 2., 5., 9.,\n",
       "       6., 2., 2., 6., 1., 4., 1., 3., 2., 7., 1., 9., 1., 7., 1., 2., 8.,\n",
       "       8., 0., 6., 2., 3., 1., 2., 7., 0., 6., 5., 4., 5., 4., 4., 4., 6.,\n",
       "       4., 9., 1., 5., 2., 1., 0., 3., 2., 8., 9., 7., 8., 4., 0., 7., 4.,\n",
       "       9., 8., 4., 5., 1., 3., 7., 0., 7., 1., 8., 3., 3., 3., 0., 9., 5.,\n",
       "       2., 9., 5., 6., 7., 4., 7., 0., 4., 5., 1., 6., 2., 9., 2., 1., 7.,\n",
       "       8., 9., 8., 8., 8., 3., 1., 7., 9., 3., 8., 9., 0., 1., 0., 9., 4.,\n",
       "       3., 9., 1., 7., 5., 4., 3., 2., 9., 9., 7., 0., 7., 7., 5., 2., 4.,\n",
       "       3., 3., 3., 5., 0., 3., 9., 7., 4., 6., 1., 5., 4., 3., 6., 5., 0.,\n",
       "       5., 5., 5., 6., 7., 2., 3., 8., 0., 5., 9., 1., 0., 0., 6., 6., 4.,\n",
       "       4., 6., 1., 6., 5., 4., 5., 6., 3., 9., 6., 3., 7., 0., 3., 0., 9.,\n",
       "       1., 4., 8., 7., 8., 1., 9., 3., 4., 5., 4., 0., 6., 2., 4., 9., 1.,\n",
       "       6., 9., 3., 0., 2., 1., 0., 4., 7., 7., 0., 3., 0., 9., 4., 1., 4.,\n",
       "       6., 4., 0., 8., 7., 2., 7., 9., 5., 2., 2., 1., 7., 4., 6., 0., 3.,\n",
       "       5., 7., 9., 2., 1., 3., 7., 1., 2., 2., 8., 6., 5., 2., 2., 4., 3.,\n",
       "       5., 5., 2., 7., 1., 3., 7., 7., 7., 8., 1., 7., 7., 6., 0., 0., 3.,\n",
       "       2., 7., 2., 5., 3., 2., 4., 3., 8., 6., 1., 2., 2., 9., 2., 1., 4.,\n",
       "       7., 8., 6., 4., 7., 9., 1., 9., 0., 7., 0., 2., 0., 4., 1., 7., 0.,\n",
       "       4., 3., 8., 5., 6., 9., 9., 9., 8., 7., 3., 0., 4., 5., 1., 0., 6.,\n",
       "       5., 7., 3., 2., 1., 6., 3., 0., 4., 1., 2., 3., 3., 3., 7., 4., 1.,\n",
       "       7., 4., 9., 5., 3., 3., 2., 6., 3., 2., 6., 8., 6., 4., 8., 4., 6.,\n",
       "       4., 7., 3., 8., 0., 5., 6., 0., 9., 6., 1., 0., 8., 0., 5., 5., 1.,\n",
       "       2., 3., 8., 1., 1., 0., 8., 7., 0., 3., 2., 0., 2., 5., 1., 7., 3.,\n",
       "       1., 9., 9., 1., 6., 9., 6., 6., 2., 6., 5., 9., 6., 4., 9., 6., 8.,\n",
       "       2., 7., 5., 9., 1., 3., 4., 9., 2., 8., 8., 4., 2., 5., 0., 9., 0.,\n",
       "       2., 0., 1., 8., 3., 4., 0., 1., 3., 7., 8., 1., 9., 6., 3., 1., 0.,\n",
       "       8., 3., 9., 1., 6., 5., 5., 7., 9., 7., 8., 1., 1., 0., 9., 1., 9.,\n",
       "       4., 0., 6., 6., 5., 0., 7., 4., 8., 0., 7., 8., 4., 4., 5., 1., 1.,\n",
       "       8., 4., 0., 8., 2., 8., 3., 7., 1., 1., 3., 7., 7., 8., 4., 2., 6.,\n",
       "       3., 0., 0.])"
      ]
     },
     "execution_count": 163,
     "metadata": {},
     "output_type": "execute_result"
    }
   ],
   "source": [
    "%time clf.predict(X_test)"
   ]
  },
  {
   "cell_type": "code",
   "execution_count": 164,
   "metadata": {},
   "outputs": [
    {
     "name": "stdout",
     "output_type": "stream",
     "text": [
      "CPU times: user 3.73 s, sys: 406 ms, total: 4.13 s\n",
      "Wall time: 2.4 s\n"
     ]
    },
    {
     "data": {
      "text/plain": [
       "array([9., 6., 2., 7., 6., 3., 6., 1., 1., 3., 7., 1., 6., 5., 1., 1., 0.,\n",
       "       9., 6., 6., 4., 9., 1., 0., 3., 3., 0., 1., 8., 9., 2., 6., 1., 8.,\n",
       "       0., 3., 3., 2., 6., 3., 7., 8., 7., 2., 5., 6., 4., 4., 5., 7., 0.,\n",
       "       3., 6., 8., 3., 1., 8., 8., 9., 7., 2., 0., 1., 1., 8., 7., 0., 9.,\n",
       "       9., 2., 4., 5., 2., 5., 1., 7., 3., 7., 3., 7., 3., 0., 3., 8., 4.,\n",
       "       4., 3., 5., 9., 2., 9., 8., 6., 5., 4., 9., 7., 3., 5., 6., 9., 6.,\n",
       "       3., 2., 6., 0., 2., 1., 4., 2., 0., 2., 1., 1., 0., 8., 5., 6., 6.,\n",
       "       3., 7., 4., 1., 0., 3., 1., 8., 9., 6., 6., 4., 8., 6., 1., 0., 2.,\n",
       "       5., 4., 8., 6., 8., 9., 0., 8., 9., 5., 9., 3., 6., 9., 1., 7., 2.,\n",
       "       2., 5., 8., 5., 2., 8., 1., 8., 4., 7., 3., 1., 4., 0., 2., 6., 3.,\n",
       "       1., 8., 4., 6., 9., 0., 4., 5., 4., 7., 0., 5., 7., 1., 7., 9., 0.,\n",
       "       5., 8., 7., 8., 6., 8., 4., 8., 1., 2., 4., 3., 5., 5., 5., 1., 7.,\n",
       "       6., 1., 1., 2., 1., 9., 5., 9., 0., 9., 2., 7., 9., 7., 2., 5., 9.,\n",
       "       6., 2., 2., 6., 1., 4., 1., 3., 2., 7., 1., 9., 1., 7., 1., 2., 8.,\n",
       "       8., 0., 6., 2., 3., 1., 2., 7., 0., 6., 5., 4., 5., 4., 4., 4., 6.,\n",
       "       4., 9., 1., 5., 2., 1., 0., 3., 2., 8., 9., 7., 8., 4., 0., 7., 4.,\n",
       "       9., 8., 4., 5., 1., 3., 7., 0., 7., 1., 8., 3., 3., 3., 0., 9., 5.,\n",
       "       2., 9., 5., 6., 7., 4., 7., 0., 4., 5., 1., 6., 2., 9., 2., 1., 7.,\n",
       "       8., 9., 8., 8., 8., 3., 1., 7., 9., 3., 8., 9., 0., 1., 0., 9., 4.,\n",
       "       3., 9., 1., 7., 5., 4., 3., 2., 9., 9., 7., 0., 7., 7., 5., 2., 4.,\n",
       "       3., 3., 3., 5., 0., 3., 9., 7., 4., 6., 1., 5., 4., 3., 6., 5., 0.,\n",
       "       5., 5., 5., 6., 7., 2., 3., 8., 0., 5., 9., 1., 0., 0., 6., 6., 4.,\n",
       "       4., 6., 1., 6., 5., 4., 5., 6., 3., 9., 6., 3., 7., 0., 3., 0., 9.,\n",
       "       1., 4., 8., 7., 8., 1., 9., 3., 4., 5., 4., 0., 6., 2., 4., 9., 1.,\n",
       "       6., 9., 3., 0., 2., 1., 0., 4., 7., 7., 0., 3., 0., 9., 4., 1., 4.,\n",
       "       6., 4., 0., 8., 7., 2., 7., 9., 5., 2., 2., 1., 7., 4., 6., 0., 3.,\n",
       "       5., 7., 9., 2., 1., 3., 7., 1., 2., 2., 8., 6., 5., 2., 2., 4., 3.,\n",
       "       5., 5., 2., 7., 1., 3., 7., 7., 7., 8., 1., 7., 7., 6., 0., 0., 3.,\n",
       "       2., 7., 2., 5., 3., 2., 4., 3., 8., 6., 1., 2., 2., 9., 2., 1., 4.,\n",
       "       7., 8., 6., 4., 7., 9., 1., 9., 0., 7., 0., 2., 0., 4., 1., 7., 0.,\n",
       "       4., 3., 8., 5., 6., 9., 9., 9., 8., 7., 3., 0., 4., 5., 1., 0., 6.,\n",
       "       5., 7., 3., 2., 1., 6., 3., 0., 4., 1., 2., 3., 3., 3., 7., 4., 1.,\n",
       "       7., 4., 9., 5., 3., 3., 2., 6., 3., 2., 6., 8., 6., 4., 8., 4., 6.,\n",
       "       4., 7., 3., 8., 0., 5., 6., 0., 9., 6., 1., 0., 8., 0., 5., 5., 1.,\n",
       "       2., 3., 8., 1., 1., 0., 8., 7., 0., 3., 2., 0., 2., 5., 1., 7., 3.,\n",
       "       1., 9., 9., 1., 6., 9., 6., 6., 2., 6., 5., 9., 6., 4., 9., 6., 8.,\n",
       "       2., 7., 5., 9., 1., 3., 4., 9., 2., 8., 8., 4., 2., 5., 0., 9., 0.,\n",
       "       2., 0., 1., 8., 3., 4., 0., 1., 3., 7., 8., 1., 9., 6., 3., 1., 0.,\n",
       "       8., 3., 9., 1., 6., 5., 5., 7., 9., 7., 8., 1., 1., 0., 9., 1., 9.,\n",
       "       4., 0., 6., 6., 5., 0., 7., 4., 8., 0., 7., 8., 4., 4., 5., 1., 1.,\n",
       "       8., 4., 0., 8., 2., 8., 3., 7., 1., 1., 3., 7., 7., 8., 4., 2., 6.,\n",
       "       3., 0., 0.])"
      ]
     },
     "execution_count": 164,
     "metadata": {},
     "output_type": "execute_result"
    }
   ],
   "source": [
    "%time my_clf.predict(X_test)"
   ]
  },
  {
   "cell_type": "code",
   "execution_count": 165,
   "metadata": {},
   "outputs": [
    {
     "name": "stdout",
     "output_type": "stream",
     "text": [
      "CPU times: user 2.71 s, sys: 400 ms, total: 3.11 s\n",
      "Wall time: 1.9 s\n"
     ]
    },
    {
     "data": {
      "text/plain": [
       "array([[0., 0., 0., ..., 0., 0., 1.],\n",
       "       [0., 0., 0., ..., 0., 0., 0.],\n",
       "       [0., 0., 1., ..., 0., 0., 0.],\n",
       "       ...,\n",
       "       [0., 0., 0., ..., 0., 0., 0.],\n",
       "       [1., 0., 0., ..., 0., 0., 0.],\n",
       "       [1., 0., 0., ..., 0., 0., 0.]])"
      ]
     },
     "execution_count": 165,
     "metadata": {},
     "output_type": "execute_result"
    }
   ],
   "source": [
    "%time clf.predict_proba(X_test)"
   ]
  },
  {
   "cell_type": "code",
   "execution_count": 166,
   "metadata": {},
   "outputs": [
    {
     "name": "stdout",
     "output_type": "stream",
     "text": [
      "CPU times: user 3.03 s, sys: 393 ms, total: 3.42 s\n",
      "Wall time: 1.96 s\n"
     ]
    },
    {
     "data": {
      "text/plain": [
       "array([[0., 0., 0., ..., 0., 0., 1.],\n",
       "       [0., 0., 0., ..., 0., 0., 0.],\n",
       "       [0., 0., 1., ..., 0., 0., 0.],\n",
       "       ...,\n",
       "       [0., 0., 0., ..., 0., 0., 0.],\n",
       "       [1., 0., 0., ..., 0., 0., 0.],\n",
       "       [1., 0., 0., ..., 0., 0., 0.]])"
      ]
     },
     "execution_count": 166,
     "metadata": {},
     "output_type": "execute_result"
    }
   ],
   "source": [
    "%time my_clf.predict_proba(X_test)"
   ]
  },
  {
   "cell_type": "code",
   "execution_count": 167,
   "metadata": {},
   "outputs": [
    {
     "data": {
      "text/plain": [
       "0.9728571428571429"
      ]
     },
     "execution_count": 167,
     "metadata": {},
     "output_type": "execute_result"
    }
   ],
   "source": [
    "clf.score(X_test, y_test)"
   ]
  },
  {
   "cell_type": "code",
   "execution_count": 168,
   "metadata": {},
   "outputs": [
    {
     "data": {
      "text/plain": [
       "0.9728571428571429"
      ]
     },
     "execution_count": 168,
     "metadata": {},
     "output_type": "execute_result"
    }
   ],
   "source": [
    "my_clf.score(X_test, y_test)"
   ]
  },
  {
   "cell_type": "markdown",
   "metadata": {},
   "source": [
    "Задание 4"
   ]
  },
  {
   "cell_type": "code",
   "execution_count": 245,
   "metadata": {},
   "outputs": [],
   "source": [
    "clf = KNeighborsClassifier(n_neighbors=2, algorithm='kd_tree')\n",
    "my_clf = MyKNeighborsClassifier(n_neighbors=2, algorithm='kd_tree')"
   ]
  },
  {
   "cell_type": "code",
   "execution_count": 246,
   "metadata": {},
   "outputs": [],
   "source": [
    "X_train, X_test, y_train, y_test = train_test_split(mnist.data, mnist.target, test_size=0.01, stratify=mnist.target)"
   ]
  },
  {
   "cell_type": "code",
   "execution_count": 247,
   "metadata": {},
   "outputs": [
    {
     "name": "stdout",
     "output_type": "stream",
     "text": [
      "CPU times: user 38.3 s, sys: 168 ms, total: 38.5 s\n",
      "Wall time: 38.4 s\n"
     ]
    },
    {
     "data": {
      "text/plain": [
       "KNeighborsClassifier(algorithm='kd_tree', leaf_size=30, metric='minkowski',\n",
       "           metric_params=None, n_jobs=1, n_neighbors=2, p=2,\n",
       "           weights='uniform')"
      ]
     },
     "execution_count": 247,
     "metadata": {},
     "output_type": "execute_result"
    }
   ],
   "source": [
    "%time clf.fit(X_train, y_train)"
   ]
  },
  {
   "cell_type": "code",
   "execution_count": 248,
   "metadata": {},
   "outputs": [
    {
     "name": "stdout",
     "output_type": "stream",
     "text": [
      "CPU times: user 37.2 s, sys: 180 ms, total: 37.4 s\n",
      "Wall time: 37.3 s\n"
     ]
    }
   ],
   "source": [
    "%time my_clf.fit(X_train, y_train)"
   ]
  },
  {
   "cell_type": "code",
   "execution_count": 249,
   "metadata": {},
   "outputs": [
    {
     "name": "stdout",
     "output_type": "stream",
     "text": [
      "CPU times: user 1min 13s, sys: 20.2 ms, total: 1min 13s\n",
      "Wall time: 1min 13s\n"
     ]
    },
    {
     "data": {
      "text/plain": [
       "array([6., 0., 2., 7., 6., 2., 6., 2., 5., 9., 8., 2., 5., 1., 6., 3., 0.,\n",
       "       8., 3., 5., 7., 2., 7., 8., 0., 9., 2., 7., 2., 7., 7., 1., 3., 2.,\n",
       "       2., 6., 1., 9., 2., 5., 2., 1., 3., 4., 1., 9., 5., 8., 2., 3., 7.,\n",
       "       6., 1., 5., 7., 4., 0., 9., 8., 1., 5., 1., 4., 0., 2., 0., 3., 9.,\n",
       "       3., 5., 5., 2., 7., 2., 1., 4., 0., 6., 1., 3., 0., 3., 4., 9., 8.,\n",
       "       7., 4., 5., 6., 0., 3., 9., 6., 1., 1., 6., 1., 0., 7., 0., 4., 1.,\n",
       "       0., 3., 6., 8., 4., 2., 9., 1., 4., 3., 3., 7., 5., 9., 7., 4., 6.,\n",
       "       4., 8., 3., 1., 9., 1., 7., 6., 2., 1., 6., 1., 0., 7., 1., 8., 3.,\n",
       "       0., 3., 5., 3., 6., 0., 2., 1., 8., 3., 3., 0., 7., 9., 2., 1., 2.,\n",
       "       0., 6., 1., 1., 4., 0., 1., 1., 7., 7., 6., 4., 8., 3., 3., 8., 7.,\n",
       "       6., 7., 0., 6., 9., 8., 0., 4., 7., 1., 7., 2., 0., 9., 1., 7., 3.,\n",
       "       1., 9., 5., 3., 1., 4., 3., 7., 4., 4., 7., 6., 2., 5., 0., 9., 2.,\n",
       "       9., 6., 7., 3., 3., 6., 0., 2., 9., 3., 6., 8., 8., 4., 9., 5., 1.,\n",
       "       0., 7., 0., 8., 1., 7., 2., 8., 1., 8., 0., 6., 6., 9., 6., 4., 4.,\n",
       "       9., 2., 1., 8., 5., 2., 1., 4., 6., 4., 0., 6., 7., 5., 5., 7., 7.,\n",
       "       7., 3., 3., 0., 1., 6., 3., 7., 2., 1., 2., 2., 3., 1., 0., 8., 7.,\n",
       "       6., 3., 2., 9., 9., 1., 6., 1., 9., 1., 1., 1., 4., 3., 9., 6., 6.,\n",
       "       8., 4., 6., 2., 8., 3., 3., 9., 6., 2., 1., 2., 9., 7., 7., 1., 6.,\n",
       "       1., 2., 9., 9., 7., 1., 9., 0., 6., 9., 9., 6., 5., 7., 1., 5., 8.,\n",
       "       3., 1., 5., 3., 7., 8., 2., 0., 5., 5., 3., 0., 1., 6., 4., 5., 1.,\n",
       "       4., 3., 4., 2., 2., 0., 3., 2., 1., 8., 4., 9., 8., 5., 2., 5., 5.,\n",
       "       8., 1., 9., 3., 5., 0., 9., 8., 4., 8., 5., 8., 2., 0., 1., 4., 7.,\n",
       "       0., 4., 8., 0., 5., 6., 2., 0., 5., 6., 0., 9., 6., 1., 0., 4., 9.,\n",
       "       9., 3., 2., 1., 0., 5., 1., 2., 0., 5., 0., 3., 2., 1., 6., 7., 9.,\n",
       "       5., 7., 5., 0., 4., 6., 3., 5., 8., 8., 6., 4., 4., 8., 4., 8., 2.,\n",
       "       6., 8., 4., 8., 2., 0., 7., 8., 1., 6., 4., 3., 9., 3., 6., 7., 2.,\n",
       "       3., 0., 5., 0., 3., 0., 4., 4., 9., 4., 5., 5., 9., 9., 7., 1., 8.,\n",
       "       5., 7., 4., 4., 1., 0., 4., 7., 6., 7., 3., 2., 8., 1., 0., 1., 5.,\n",
       "       0., 7., 4., 4., 4., 7., 9., 2., 2., 4., 0., 4., 5., 2., 9., 8., 2.,\n",
       "       3., 3., 8., 8., 7., 7., 3., 3., 5., 9., 6., 2., 7., 5., 6., 6., 2.,\n",
       "       2., 2., 6., 7., 6., 4., 5., 4., 7., 4., 9., 7., 8., 5., 3., 7., 8.,\n",
       "       5., 4., 0., 7., 3., 1., 7., 4., 2., 3., 2., 5., 6., 1., 7., 4., 0.,\n",
       "       8., 3., 4., 8., 6., 2., 0., 4., 3., 1., 8., 3., 8., 3., 6., 2., 7.,\n",
       "       2., 0., 9., 9., 5., 4., 0., 8., 9., 6., 5., 1., 6., 4., 8., 8., 0.,\n",
       "       7., 3., 0., 5., 5., 6., 1., 1., 5., 3., 7., 8., 6., 5., 4., 4., 8.,\n",
       "       9., 2., 4., 8., 4., 2., 8., 7., 9., 9., 0., 5., 9., 0., 0., 3., 5.,\n",
       "       9., 0., 2., 5., 6., 7., 8., 6., 1., 9., 0., 1., 1., 2., 9., 5., 0.,\n",
       "       6., 9., 1., 9., 3., 4., 7., 3., 2., 3., 8., 8., 7., 5., 8., 0., 9.,\n",
       "       5., 8., 0., 4., 6., 9., 1., 8., 1., 7., 6., 8., 1., 3., 7., 3., 5.,\n",
       "       1., 3., 0., 9., 4., 4., 9., 9., 5., 3., 9., 4., 4., 2., 7., 2., 7.,\n",
       "       2., 0., 6., 8., 7., 2., 1., 1., 6., 7., 6., 8., 6., 5., 7., 2., 7.,\n",
       "       5., 0., 1.])"
      ]
     },
     "execution_count": 249,
     "metadata": {},
     "output_type": "execute_result"
    }
   ],
   "source": [
    "%time clf.predict(X_test)"
   ]
  },
  {
   "cell_type": "code",
   "execution_count": 250,
   "metadata": {},
   "outputs": [
    {
     "name": "stdout",
     "output_type": "stream",
     "text": [
      "CPU times: user 1min 7s, sys: 81.1 ms, total: 1min 7s\n",
      "Wall time: 1min 7s\n"
     ]
    },
    {
     "data": {
      "text/plain": [
       "array([6., 0., 2., 7., 6., 2., 6., 2., 5., 9., 8., 2., 5., 1., 6., 3., 0.,\n",
       "       8., 3., 5., 7., 2., 7., 8., 0., 9., 2., 7., 2., 7., 7., 1., 3., 2.,\n",
       "       2., 6., 1., 9., 2., 5., 2., 1., 3., 4., 1., 9., 5., 8., 2., 3., 7.,\n",
       "       6., 1., 5., 7., 4., 0., 9., 8., 1., 5., 1., 4., 0., 2., 0., 3., 9.,\n",
       "       3., 5., 5., 2., 7., 2., 1., 4., 0., 6., 1., 3., 0., 3., 4., 9., 8.,\n",
       "       7., 4., 5., 6., 0., 3., 9., 6., 1., 1., 6., 1., 0., 7., 0., 4., 1.,\n",
       "       0., 3., 6., 8., 4., 2., 9., 1., 4., 3., 3., 7., 5., 9., 7., 4., 6.,\n",
       "       4., 8., 3., 1., 9., 1., 7., 6., 2., 1., 6., 1., 0., 7., 1., 8., 3.,\n",
       "       0., 3., 5., 3., 6., 0., 2., 1., 8., 3., 3., 0., 7., 9., 2., 1., 2.,\n",
       "       0., 6., 1., 1., 4., 0., 1., 1., 7., 7., 6., 4., 8., 3., 3., 8., 7.,\n",
       "       6., 7., 0., 6., 9., 8., 0., 4., 7., 1., 7., 2., 0., 9., 1., 7., 3.,\n",
       "       1., 9., 5., 3., 1., 4., 3., 7., 4., 4., 7., 6., 2., 5., 0., 9., 2.,\n",
       "       9., 6., 7., 3., 3., 6., 0., 2., 9., 3., 6., 8., 8., 4., 9., 5., 1.,\n",
       "       0., 7., 0., 8., 1., 7., 2., 8., 1., 8., 0., 6., 6., 9., 6., 4., 4.,\n",
       "       9., 2., 1., 8., 5., 2., 1., 4., 6., 4., 0., 6., 7., 5., 5., 7., 7.,\n",
       "       7., 3., 3., 0., 1., 6., 3., 7., 2., 1., 2., 2., 3., 1., 0., 8., 7.,\n",
       "       6., 3., 2., 9., 9., 1., 6., 1., 9., 1., 1., 1., 4., 3., 9., 6., 6.,\n",
       "       8., 4., 6., 2., 8., 3., 3., 9., 6., 2., 1., 2., 9., 7., 7., 1., 6.,\n",
       "       1., 2., 9., 9., 7., 1., 9., 0., 6., 9., 9., 6., 5., 7., 1., 5., 8.,\n",
       "       3., 1., 5., 3., 7., 8., 2., 0., 5., 5., 3., 0., 1., 6., 4., 5., 1.,\n",
       "       4., 3., 4., 2., 2., 0., 3., 2., 1., 8., 4., 9., 8., 5., 2., 5., 5.,\n",
       "       8., 1., 9., 3., 5., 0., 9., 8., 4., 8., 5., 8., 2., 0., 1., 4., 7.,\n",
       "       0., 4., 8., 0., 5., 6., 2., 0., 5., 6., 0., 9., 6., 1., 0., 4., 9.,\n",
       "       9., 3., 2., 1., 0., 5., 1., 2., 0., 5., 0., 3., 2., 1., 6., 7., 9.,\n",
       "       5., 7., 5., 0., 4., 6., 3., 5., 8., 8., 6., 4., 4., 8., 4., 8., 2.,\n",
       "       6., 8., 4., 8., 2., 0., 7., 8., 1., 6., 4., 3., 9., 3., 6., 7., 2.,\n",
       "       3., 0., 5., 0., 3., 0., 4., 4., 9., 4., 5., 5., 9., 9., 7., 1., 8.,\n",
       "       5., 7., 4., 4., 1., 0., 4., 7., 6., 7., 3., 2., 8., 1., 0., 1., 5.,\n",
       "       0., 7., 4., 4., 4., 7., 9., 2., 2., 4., 0., 4., 5., 2., 9., 8., 2.,\n",
       "       3., 3., 8., 8., 7., 7., 3., 3., 5., 9., 6., 2., 7., 5., 6., 6., 2.,\n",
       "       2., 2., 6., 7., 6., 4., 5., 4., 7., 4., 9., 7., 8., 5., 3., 7., 8.,\n",
       "       5., 4., 0., 7., 3., 1., 7., 4., 2., 3., 2., 5., 6., 1., 7., 4., 0.,\n",
       "       8., 3., 4., 8., 6., 2., 0., 4., 3., 1., 8., 3., 8., 3., 6., 2., 7.,\n",
       "       2., 0., 9., 9., 5., 4., 0., 8., 9., 6., 5., 1., 6., 4., 8., 8., 0.,\n",
       "       7., 3., 0., 5., 5., 6., 1., 1., 5., 3., 7., 8., 6., 5., 4., 4., 8.,\n",
       "       9., 2., 4., 8., 4., 2., 8., 7., 9., 9., 0., 5., 9., 0., 0., 3., 5.,\n",
       "       9., 0., 2., 5., 6., 7., 8., 6., 1., 9., 0., 1., 1., 2., 9., 5., 0.,\n",
       "       6., 9., 1., 9., 3., 4., 7., 3., 2., 3., 8., 8., 7., 5., 8., 0., 9.,\n",
       "       5., 8., 0., 4., 6., 9., 1., 8., 1., 7., 6., 8., 1., 3., 7., 3., 5.,\n",
       "       1., 3., 0., 9., 4., 4., 9., 9., 5., 3., 9., 4., 4., 2., 7., 2., 7.,\n",
       "       2., 0., 6., 8., 7., 2., 1., 1., 6., 7., 6., 8., 6., 5., 7., 2., 7.,\n",
       "       5., 0., 1.])"
      ]
     },
     "execution_count": 250,
     "metadata": {},
     "output_type": "execute_result"
    }
   ],
   "source": [
    "%time my_clf.predict(X_test)"
   ]
  },
  {
   "cell_type": "code",
   "execution_count": 251,
   "metadata": {},
   "outputs": [
    {
     "name": "stdout",
     "output_type": "stream",
     "text": [
      "CPU times: user 1min 20s, sys: 35.7 ms, total: 1min 20s\n",
      "Wall time: 1min 21s\n"
     ]
    },
    {
     "data": {
      "text/plain": [
       "array([[0., 0., 0., ..., 0., 0., 0.],\n",
       "       [1., 0., 0., ..., 0., 0., 0.],\n",
       "       [0., 0., 1., ..., 0., 0., 0.],\n",
       "       ...,\n",
       "       [0., 0., 0., ..., 0., 0., 0.],\n",
       "       [1., 0., 0., ..., 0., 0., 0.],\n",
       "       [0., 1., 0., ..., 0., 0., 0.]])"
      ]
     },
     "execution_count": 251,
     "metadata": {},
     "output_type": "execute_result"
    }
   ],
   "source": [
    "%time clf.predict_proba(X_test)"
   ]
  },
  {
   "cell_type": "code",
   "execution_count": 252,
   "metadata": {},
   "outputs": [
    {
     "name": "stdout",
     "output_type": "stream",
     "text": [
      "CPU times: user 1min 7s, sys: 45.9 ms, total: 1min 7s\n",
      "Wall time: 1min 7s\n"
     ]
    },
    {
     "data": {
      "text/plain": [
       "array([[0., 0., 0., ..., 0., 0., 0.],\n",
       "       [1., 0., 0., ..., 0., 0., 0.],\n",
       "       [0., 0., 1., ..., 0., 0., 0.],\n",
       "       ...,\n",
       "       [0., 0., 0., ..., 0., 0., 0.],\n",
       "       [1., 0., 0., ..., 0., 0., 0.],\n",
       "       [0., 1., 0., ..., 0., 0., 0.]])"
      ]
     },
     "execution_count": 252,
     "metadata": {},
     "output_type": "execute_result"
    }
   ],
   "source": [
    "%time my_clf.predict_proba(X_test)"
   ]
  },
  {
   "cell_type": "code",
   "execution_count": 253,
   "metadata": {},
   "outputs": [
    {
     "data": {
      "text/plain": [
       "0.9742857142857143"
      ]
     },
     "execution_count": 253,
     "metadata": {},
     "output_type": "execute_result"
    }
   ],
   "source": [
    "clf.score(X_test, y_test)"
   ]
  },
  {
   "cell_type": "code",
   "execution_count": 254,
   "metadata": {},
   "outputs": [
    {
     "data": {
      "text/plain": [
       "0.9742857142857143"
      ]
     },
     "execution_count": 254,
     "metadata": {},
     "output_type": "execute_result"
    }
   ],
   "source": [
    "my_clf.score(X_test, y_test)"
   ]
  },
  {
   "cell_type": "markdown",
   "metadata": {},
   "source": [
    "Задание 5"
   ]
  },
  {
   "cell_type": "code",
   "execution_count": 256,
   "metadata": {},
   "outputs": [],
   "source": [
    "# seaborn\n",
    "#Библиотека, которая представляет высокоуровневый интерфейс для построения статистических графиков.\n",
    "# matplotlib\n",
    "#Библиотека для визуализации данных двумерной и трехмерной графикой. \n",
    "# train_test_split\n",
    "#Разбивает датасет на тестовую и тренировочную выборку в необходимом соотношении, предварительно перемешивает.\n",
    "# Pipelin%load_ext e (from sklearn.pipeline import Pipeline)\n",
    "#Последовательная сцепка нескольких преобразований.\n",
    "# StandardScaler (from sklearn.preprocessing import StandardScaler)\n",
    "#Стандартизация фич по всем сэмплам(приведение среднего и среднеквадратичного).\n",
    "# ClassifierMixin\n",
    "#Наследуемый класс, содержит метод score.\n",
    "# NeighborsBase\n",
    "#Наследуемый класс, содержит конструктор классификаторов, методы определения алгоритма поиска соседей, обучения, предвычисления расстояний.\n",
    "# KNeighborsMixin\n",
    "#Наследуемый класс, содержит методы для вычисления расстояний, поиска индексов соседей, построения графов соседей.\n",
    "# SupervisedIntegerMixin\n",
    "#Наследуемый класс, содержит метод обучения для целых целевых меток."
   ]
  }
 ],
 "metadata": {
  "kernelspec": {
   "display_name": "Python 3",
   "language": "python",
   "name": "python3"
  },
  "language_info": {
   "codemirror_mode": {
    "name": "ipython",
    "version": 3
   },
   "file_extension": ".py",
   "mimetype": "text/x-python",
   "name": "python",
   "nbconvert_exporter": "python",
   "pygments_lexer": "ipython3",
   "version": "3.7.0"
  }
 },
 "nbformat": 4,
 "nbformat_minor": 2
}
