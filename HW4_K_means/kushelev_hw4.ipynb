{
 "cells": [
  {
   "cell_type": "markdown",
   "metadata": {},
   "source": [
    "# Алгоритмы интеллектуальной обработки больших объемов данных\n",
    "## Домашнее задание №4 - Метод k-средних, предобработка признаков\n"
   ]
  },
  {
   "cell_type": "markdown",
   "metadata": {},
   "source": [
    "###### <hr\\>\n",
    "**Общая информация**\n",
    "\n",
    "**Срок сдачи:** 28 ноября 2018, 06:00 <br\\>\n",
    "**Штраф за опоздание:** -2 балла после 06:00 28 ноября, -4 балла после 06:00 5 декабря, -6 баллов после 06:00 12 декабря, -8 баллов после 19 декабря\n",
    "\n",
    "При отправлении ДЗ указывайте фамилию в названии файла\n",
    "Присылать ДЗ необходимо в виде ссылки на свой github репозиторий в slack @alkhamush\n",
    "\n",
    "Необходимо в slack создать таск в приватный чат:\n",
    "/todo Фамилия Имя ссылка на гитхаб @alkhamush\n",
    "Пример:\n",
    "/todo Ксения Стройкова https://github.com/stroykova/spheremailru/stroykova_hw1.ipynb @alkhamush\n",
    "Дополнительно нужно просто скинуть ссылку в slack в личный чат\n",
    "\n",
    "Используйте данный Ipython Notebook при оформлении домашнего задания."
   ]
  },
  {
   "cell_type": "markdown",
   "metadata": {},
   "source": [
    "# Имплементация K-means\n",
    "\n",
    "Пользуясь наработками выше, имплементируйте метод k-means.  \n",
    "При инициализации необходимо задавать количество кластеров, функцию расстояния между кластерами (для оригинального k-means - евклидово расстояние) и начальное состояние генератора случайных чисел.\n",
    "\n",
    "После обучения, среди атрибутов класса `Kmeans` должны появится\n",
    "* Метки кластеров для объектов\n",
    "* Координаты центройдов кластеров\n",
    "\n",
    "k-means - это алгоритм **кластеризации**, а не классификации, а посему метод `.predict()` в нем фактически не нужен, но он может возвращать метки ближайшего кластера для объектов."
   ]
  },
  {
   "cell_type": "markdown",
   "metadata": {},
   "source": [
    "###### Задание 1 (2 баллов)\n",
    "Имплементируйте метод k-means. Задание считается выполненным, если Ваша реализация работает быстрее реализации из sklearn.\n",
    "\n",
    "Теория для выполнения задания 2 и 3 остаётся на самостоятельное изучение. Теории немного и она совсем простая.\n",
    "\n",
    "###### Задание 2 (2 балла)\n",
    "Имплементируйте класс MiniBatchKMeans, который является классом наследником Kmeans.\n",
    "\n",
    "###### Задание 3 (2 балла)\n",
    "Превратите k-means в k-means++. Для этого нужно реализовать метод в классе Kmeans, который будет инициализировать более \"хорошие\" значения центроидов. Чтобы использовался метод k-means++, в параметр init необходимо передать строковое значение 'k-means' (по умолчанию 'random').\n",
    "\n",
    "###### Задание 4 (2 балла)\n",
    "В пункте \"Проверка корректности метода\" нужно нарисовать графики, которые показывают зависимость времени выполнения алгоритма от количества сэмплов. Графики должны быть  нарисованы для различных комбинаций реализаций алгоритма (k-means, k-means++, k-means с MiniBatchKMeans, k-means++ с MiniBatchKMeans). График достаточно построить на 5-10 точках.\n",
    "\n",
    "###### Задание 5 (2 балла)\n",
    "В пункте \"Применение K-means на реальных данных\" нужно сравнить различные реализации k-means (k-means, k-means++, k-means с MiniBatchKMeans, k-means++ с MiniBatchKMeans). После чего написать вывод, в котором должно быть объяснение того, почему один алгоритм оказался лучше остальных или почему не было выявлено лучшего алгоритма.\n",
    "\n",
    "**Штрафные баллы:**\n",
    "\n",
    "1. Невыполнение PEP8 -1 балл\n",
    "2. Отсутствие фамилии в имени скрипта (скрипт должен называться по аналогии со stroykova_hw4.ipynb) -1 балл\n",
    "3. Все строчки должны быть выполнены. Нужно, чтобы output команды можно было увидеть уже в git'е. В противном случае -1 балл\n",
    "4. При оформлении ДЗ нужно пользоваться данным файлом в качестве шаблона. Не нужно удалять и видоизменять написанный код и текст. В противном случае -1 балл\n",
    "<hr\\>"
   ]
  },
  {
   "cell_type": "code",
   "execution_count": 957,
   "metadata": {},
   "outputs": [
    {
     "name": "stdout",
     "output_type": "stream",
     "text": [
      "The pycodestyle_magic extension is already loaded. To reload it, use:\n",
      "  %reload_ext pycodestyle_magic\n"
     ]
    }
   ],
   "source": [
    "#%%pycodestyle\n",
    "\n",
    "\n",
    "import pandas as pd\n",
    "import numpy as np\n",
    "import matplotlib.pyplot as plt\n",
    "import sklearn as sk\n",
    "from sklearn import metrics, cluster\n",
    "import time\n",
    "from sklearn import preprocessing\n",
    "\n",
    "%matplotlib inline\n",
    "\n",
    "plt.style.use('ggplot')\n",
    "plt.rcParams['figure.figsize'] = (12, 5)\n",
    "\n",
    "%load_ext pycodestyle_magic"
   ]
  },
  {
   "cell_type": "code",
   "execution_count": 966,
   "metadata": {},
   "outputs": [],
   "source": [
    "#%%pycodestyle\n",
    "\n",
    "\n",
    "class MyKmeans:\n",
    "\n",
    "    def __init__(self, k=2, metric='euclidean',\n",
    "                 max_iter=1000, random_state=None, init='random'):\n",
    "        \"\"\"\n",
    "        Инициализация метода\n",
    "        :k - количество кластеров\n",
    "        :metric - функция расстояния между объектами\n",
    "        :max_iter - максиальное количество итераций\n",
    "        :random_state - seed для инициализации генератора случайных чисел\n",
    "        \"\"\"\n",
    "\n",
    "        self.k = k\n",
    "        self.random_state = random_state\n",
    "        self.metric = metric\n",
    "        self.max_iter = max_iter\n",
    "        if init == 'random':\n",
    "            self.init = self.__set_centr\n",
    "        elif init == 'k-means':\n",
    "            self.init = self.__set_centr_plusplus\n",
    "        else:\n",
    "            print('Unknown initialization method')\n",
    "\n",
    "    def fit(self, X, y=None):\n",
    "        \"\"\"\n",
    "        Процедура обучения k-means\n",
    "        \"\"\"\n",
    "\n",
    "        # Инициализация генератора случайных чисел\n",
    "        np.random.seed(self.random_state)\n",
    "\n",
    "        # Массив с метками кластеров для каждого объекта из X\n",
    "        self.labels = np.empty(X.shape[0])\n",
    "\n",
    "        # Массив с центройдами кластеров\n",
    "        self.centroids = np.empty((self.k, X.shape[1]))\n",
    "        self.centroids = self.init(X)\n",
    "\n",
    "        for i in range(self.max_iter):\n",
    "            self.labels = sk.metrics.pairwise_distances_argmin(\n",
    "                X, self.centroids)\n",
    "            for label in range(self.k):\n",
    "                cluster = X[label == self.labels]\n",
    "                if cluster.shape[0] != 0:\n",
    "                    self.centroids[label] = np.mean(cluster, axis=0)\n",
    "\n",
    "        return self\n",
    "\n",
    "    def predict(self, X, y=None):\n",
    "        \"\"\"\n",
    "        Процедура предсказания кластера\n",
    "\n",
    "        Возвращает метку ближайшего кластера для каждого объекта\n",
    "        \"\"\"\n",
    "        return sk.metrics.pairwise_distances_argmin(X, self.centroids)\n",
    "\n",
    "    def __set_centr_plusplus(self, X):\n",
    "        centroids = np.empty((self.k, X.shape[1]))\n",
    "        centroid_idx = np.random.choice(X.shape[0])\n",
    "        centroids[0] = X[centroid_idx]\n",
    "        for i in range(1, self.k):\n",
    "            weights = sk.metrics.pairwise_distances_argmin_min(\n",
    "                X, centroids[:i])[1]\n",
    "            weights /= np.sum(weights)\n",
    "            centroids[i] = X[np.random.choice(X.shape[0], p=weights)]\n",
    "        return centroids\n",
    "\n",
    "    def __set_centr(self, X):\n",
    "        centroid_idx = np.random.choice(X.shape[0], size=self.k, replace=False)\n",
    "        return X[centroid_idx]\n",
    "\n",
    "\n",
    "class MyMiniBatchKmeans(MyKmeans):\n",
    "    def __init__(self, k=2, metric='euclidean',\n",
    "                 max_iter=1000, random_state=None,\n",
    "                 init='random', batch_size=100):\n",
    "        super().__init__(k, metric, max_iter, random_state, init)\n",
    "        self.batch_size = batch_size\n",
    "\n",
    "    def fit(self, X, y=None):\n",
    "\n",
    "        # Инициализация генератора случайных чисел\n",
    "        np.random.seed(self.random_state)\n",
    "\n",
    "        # Массив с метками кластеров для каждого объекта из X\n",
    "        self.labels = np.empty(X.shape[0])\n",
    "\n",
    "        # Массив с центройдами кластеров\n",
    "        self.centroids = np.empty((self.k, X.shape[1]))\n",
    "\n",
    "        self.centroids = self.init(X)\n",
    "\n",
    "        v = np.zeros(self.k)\n",
    "        np.random.shuffle(X)\n",
    "        ind = 0\n",
    "        for i in range(self.max_iter):\n",
    "            if ind * self.batch_size >= X.shape[0]:\n",
    "                ind = 0\n",
    "            elif (ind + 1) * self.batch_size >= X.shape[0]:\n",
    "                batch = X[ind * self.batch_size:]\n",
    "            else:\n",
    "                batch = X[ind * self.batch_size:(ind + 1) * self.batch_size]\n",
    "            ind += 1\n",
    "            batch_labels = sk.metrics.pairwise_distances_argmin(\n",
    "                batch, self.centroids)\n",
    "\n",
    "            for j in range(self.batch_size):\n",
    "                v[batch_labels[j]] += 1\n",
    "                learn_rate = 1 / v[batch_labels[j]]\n",
    "                self.centroids[batch_labels[j]] = (1 - learn_rate) * \\\n",
    "                    self.centroids[batch_labels[j]] + learn_rate * batch[j]\n",
    "\n",
    "        self.labels = sk.metrics.pairwise_distances_argmin(X, self.centroids)\n",
    "        return self"
   ]
  },
  {
   "cell_type": "markdown",
   "metadata": {},
   "source": [
    "### Проверка корректности метода\n",
    "\n",
    "Перед тем как применять алгоритм на реальных данных, нужно испытать его на простых \"игрушечных\" данных.\n",
    "\n",
    "Если алгоритм реализован правильно, то метод должен идеально разбивать на 3 кластера данные ниже. Проверьте это.\n",
    "\n",
    "ВНИМАНИЕ! Проверка должна быть осуществлена на всех реализациях, иначе реализация не будет зачтена!"
   ]
  },
  {
   "cell_type": "code",
   "execution_count": 784,
   "metadata": {},
   "outputs": [],
   "source": [
    "from sklearn.datasets import make_blobs"
   ]
  },
  {
   "cell_type": "code",
   "execution_count": 785,
   "metadata": {},
   "outputs": [],
   "source": [
    "X, y = make_blobs(n_samples=100, n_features=2, centers=3, cluster_std=1, \n",
    "           center_box=(-10.0, 10.0), shuffle=False, random_state=1234)"
   ]
  },
  {
   "cell_type": "code",
   "execution_count": 786,
   "metadata": {},
   "outputs": [
    {
     "data": {
      "text/plain": [
       "<matplotlib.collections.PathCollection at 0x7fdf035bcf28>"
      ]
     },
     "execution_count": 786,
     "metadata": {},
     "output_type": "execute_result"
    },
    {
     "data": {
      "image/png": "[encoded data removed]",
      "text/plain": [
       "<Figure size 864x360 with 1 Axes>"
      ]
     },
     "metadata": {},
     "output_type": "display_data"
    }
   ],
   "source": [
    "plt.scatter(X[:,0], X[:, 1], c=y)"
   ]
  },
  {
   "cell_type": "markdown",
   "metadata": {},
   "source": [
    "Проверьте Вашу имплементацию на простых данных (без этого пункта ДЗ не считается выполненным).   \n",
    "КОММЕНТАРИИ НЕ СТИРАТЬ!"
   ]
  },
  {
   "cell_type": "code",
   "execution_count": 802,
   "metadata": {},
   "outputs": [
    {
     "data": {
      "image/png": "[encoded data removed]",
      "text/plain": [
       "<Figure size 864x360 with 1 Axes>"
      ]
     },
     "metadata": {},
     "output_type": "display_data"
    }
   ],
   "source": [
    "## Работоспособность MyKmeans\n",
    "\n",
    "myclust = MyKmeans(3, init='random')\n",
    "myclust.fit(X)\n",
    "plt.scatter(X[:, 0], X[:, 1], c=myclust.labels)\n",
    "plt.scatter(myclust.centroids[:, 0], myclust.centroids[:, 1], marker=',', linewidths=3)\n",
    "\n",
    "plt.show()"
   ]
  },
  {
   "cell_type": "code",
   "execution_count": 803,
   "metadata": {},
   "outputs": [
    {
     "data": {
      "image/png": "[encoded data removed]",
      "text/plain": [
       "<Figure size 864x360 with 1 Axes>"
      ]
     },
     "metadata": {},
     "output_type": "display_data"
    }
   ],
   "source": [
    "## Работоспособность MyKmeans++\n",
    "\n",
    "myclust = MyKmeans(3, init='k-means')\n",
    "myclust.fit(X)\n",
    "plt.scatter(X[:, 0], X[:, 1], c=myclust.labels)\n",
    "plt.scatter(myclust.centroids[:, 0], myclust.centroids[:, 1], marker=',', linewidths=3)\n",
    "\n",
    "plt.show()"
   ]
  },
  {
   "cell_type": "code",
   "execution_count": 804,
   "metadata": {},
   "outputs": [
    {
     "data": {
      "image/png": "[encoded data removed]",
      "text/plain": [
       "<Figure size 864x360 with 1 Axes>"
      ]
     },
     "metadata": {},
     "output_type": "display_data"
    }
   ],
   "source": [
    "## Работоспособность MyKmeans с MiniBatchMyKmeans\n",
    "\n",
    "myclust = MyMiniBatchKmeans(3, init='random', batch_size=2)\n",
    "myclust.fit(X)\n",
    "plt.scatter(X[:, 0], X[:, 1], c=myclust.labels)\n",
    "plt.scatter(myclust.centroids[:, 0], myclust.centroids[:, 1], marker=',', linewidths=3)\n",
    "\n",
    "plt.show()"
   ]
  },
  {
   "cell_type": "code",
   "execution_count": 805,
   "metadata": {},
   "outputs": [
    {
     "data": {
      "image/png": "[encoded data removed]",
      "text/plain": [
       "<Figure size 864x360 with 1 Axes>"
      ]
     },
     "metadata": {},
     "output_type": "display_data"
    }
   ],
   "source": [
    "## Работоспособность MyKmeans++ с MiniBatchMyKmeans\n",
    "\n",
    "myclust = MyMiniBatchKmeans(3, init='k-means', batch_size=2)\n",
    "myclust.fit(X)\n",
    "plt.scatter(X[:, 0], X[:, 1], c=myclust.labels)\n",
    "plt.scatter(myclust.centroids[:, 0], myclust.centroids[:, 1], marker=',', linewidths=3)\n",
    "\n",
    "plt.show()"
   ]
  },
  {
   "cell_type": "code",
   "execution_count": 806,
   "metadata": {},
   "outputs": [
    {
     "name": "stdout",
     "output_type": "stream",
     "text": [
      "CPU times: user 1.32 s, sys: 3.9 ms, total: 1.32 s\n",
      "Wall time: 1.32 s\n"
     ]
    },
    {
     "data": {
      "text/plain": [
       "KMeans(algorithm='auto', copy_x=True, init='k-means++', max_iter=1000,\n",
       "    n_clusters=3, n_init=10, n_jobs=1, precompute_distances='auto',\n",
       "    random_state=None, tol=0, verbose=0)"
      ]
     },
     "execution_count": 806,
     "metadata": {},
     "output_type": "execute_result"
    }
   ],
   "source": [
    "## Время выполнения алгоритма Kmeans из sklearn\n",
    "\n",
    "clf = cluster.KMeans(n_clusters=3, max_iter=1000, tol=0)\n",
    "%time clf.fit(X)"
   ]
  },
  {
   "cell_type": "code",
   "execution_count": 807,
   "metadata": {},
   "outputs": [
    {
     "name": "stdout",
     "output_type": "stream",
     "text": [
      "CPU times: user 182 ms, sys: 4.04 ms, total: 186 ms\n",
      "Wall time: 187 ms\n"
     ]
    },
    {
     "data": {
      "text/plain": [
       "<__main__.MyMiniBatchKmeans at 0x7fdf080d2898>"
      ]
     },
     "execution_count": 807,
     "metadata": {},
     "output_type": "execute_result"
    }
   ],
   "source": [
    "## Время выполнения алгоритма MyKmeans\n",
    "\n",
    "myclf = MyKmeans(3, init='random')\n",
    "%time myclust.fit(X)"
   ]
  },
  {
   "cell_type": "code",
   "execution_count": 808,
   "metadata": {},
   "outputs": [
    {
     "name": "stdout",
     "output_type": "stream",
     "text": [
      "CPU times: user 145 ms, sys: 0 ns, total: 145 ms\n",
      "Wall time: 145 ms\n"
     ]
    },
    {
     "data": {
      "text/plain": [
       "<__main__.MyMiniBatchKmeans at 0x7fdf080d2898>"
      ]
     },
     "execution_count": 808,
     "metadata": {},
     "output_type": "execute_result"
    }
   ],
   "source": [
    "## Время выполнения алгоритма MyKmeans++\n",
    "\n",
    "myclf = MyKmeans(3, init='k-means')\n",
    "%time myclust.fit(X)"
   ]
  },
  {
   "cell_type": "code",
   "execution_count": 809,
   "metadata": {},
   "outputs": [
    {
     "name": "stdout",
     "output_type": "stream",
     "text": [
      "CPU times: user 138 ms, sys: 0 ns, total: 138 ms\n",
      "Wall time: 135 ms\n"
     ]
    },
    {
     "data": {
      "text/plain": [
       "<__main__.MyMiniBatchKmeans at 0x7fdf080d2898>"
      ]
     },
     "execution_count": 809,
     "metadata": {},
     "output_type": "execute_result"
    }
   ],
   "source": [
    "## Время выполнения алгоритма MyKmeans с MiniBatchMyKmeans\n",
    "\n",
    "myclf = MyMiniBatchKmeans(3, init='random', batch_size=2)\n",
    "%time myclust.fit(X)"
   ]
  },
  {
   "cell_type": "code",
   "execution_count": 810,
   "metadata": {},
   "outputs": [
    {
     "name": "stdout",
     "output_type": "stream",
     "text": [
      "CPU times: user 144 ms, sys: 28 µs, total: 144 ms\n",
      "Wall time: 143 ms\n"
     ]
    },
    {
     "data": {
      "text/plain": [
       "<__main__.MyMiniBatchKmeans at 0x7fdf080d2898>"
      ]
     },
     "execution_count": 810,
     "metadata": {},
     "output_type": "execute_result"
    }
   ],
   "source": [
    "## Время выполнения алгоритма  MyKmeans++ с MiniBatchMyKmeans\n",
    "\n",
    "myclf = MyMiniBatchKmeans(3, init='k-means', batch_size=2)\n",
    "%time myclust.fit(X)"
   ]
  },
  {
   "cell_type": "code",
   "execution_count": 825,
   "metadata": {},
   "outputs": [
    {
     "data": {
      "image/png": "[encoded data removed]",
      "text/plain": [
       "<Figure size 864x360 with 1 Axes>"
      ]
     },
     "metadata": {},
     "output_type": "display_data"
    }
   ],
   "source": [
    "#%%pycodestyle\n",
    "\n",
    "clf = [cluster.KMeans(n_clusters=3, max_iter=1000, tol=0),\n",
    "       MyKmeans(k=3, init='random', max_iter=1000),\n",
    "       MyKmeans(k=3, init='k-means', max_iter=1000),\n",
    "       MyMiniBatchKmeans(k=3, init='random', max_iter=1000, batch_size=10),\n",
    "       MyMiniBatchKmeans(k=3, init='k-means', max_iter=1000, batch_size=10)]\n",
    "\n",
    "time_clf = [[], [], [], [], []]\n",
    "sample_num = []\n",
    "\n",
    "for n_samples in range(1000, 10001, 1000):\n",
    "    X, _ = make_blobs(n_samples=n_samples, n_features=2,\n",
    "                      centers=3, cluster_std=1, center_box=(-10.0, 10.0),\n",
    "                      shuffle=False, random_state=4321)\n",
    "\n",
    "    sample_num.append(n_samples)\n",
    "    for i in range(len(clf)):\n",
    "        t = time.time()\n",
    "        clf[i].fit(X)\n",
    "        time_clf[i].append(time.time() - t)\n",
    "\n",
    "for i in range(len(clf)):\n",
    "    plt.plot(sample_num, time_clf[i])\n",
    "\n",
    "plt.legend(['sklearn', 'random', 'k-means++',\n",
    "           'MiniBatch random', 'MiniBatch k-means++'])\n",
    "\n",
    "plt.show()"
   ]
  },
  {
   "cell_type": "markdown",
   "metadata": {},
   "source": [
    "# Применение K-means на реальных данных"
   ]
  },
  {
   "cell_type": "markdown",
   "metadata": {},
   "source": [
    "Загрузите [данные](https://github.com/brenden17/sklearnlab/blob/master/facebook/snsdata.csv) в которых содержится описание интересов профилей учеников старшей школы США.  (без этого пункта задание не считается выполненным).   \n",
    "ВНИМАНИЕ! Проверка должна быть осуществлена на всех реализациях, иначе реализация не будет зачтена!"
   ]
  },
  {
   "cell_type": "code",
   "execution_count": 931,
   "metadata": {},
   "outputs": [
    {
     "data": {
      "text/html": [
       "<div>\n",
       "<style scoped>\n",
       "    .dataframe tbody tr th:only-of-type {\n",
       "        vertical-align: middle;\n",
       "    }\n",
       "\n",
       "    .dataframe tbody tr th {\n",
       "        vertical-align: top;\n",
       "    }\n",
       "\n",
       "    .dataframe thead th {\n",
       "        text-align: right;\n",
       "    }\n",
       "</style>\n",
       "<table border=\"1\" class=\"dataframe\">\n",
       "  <thead>\n",
       "    <tr style=\"text-align: right;\">\n",
       "      <th></th>\n",
       "      <th>gradyear</th>\n",
       "      <th>gender</th>\n",
       "      <th>age</th>\n",
       "      <th>friends</th>\n",
       "      <th>basketball</th>\n",
       "      <th>football</th>\n",
       "      <th>soccer</th>\n",
       "      <th>softball</th>\n",
       "      <th>volleyball</th>\n",
       "      <th>swimming</th>\n",
       "      <th>...</th>\n",
       "      <th>blonde</th>\n",
       "      <th>mall</th>\n",
       "      <th>shopping</th>\n",
       "      <th>clothes</th>\n",
       "      <th>hollister</th>\n",
       "      <th>abercrombie</th>\n",
       "      <th>die</th>\n",
       "      <th>death</th>\n",
       "      <th>drunk</th>\n",
       "      <th>drugs</th>\n",
       "    </tr>\n",
       "  </thead>\n",
       "  <tbody>\n",
       "    <tr>\n",
       "      <th>0</th>\n",
       "      <td>2006</td>\n",
       "      <td>M</td>\n",
       "      <td>18.982</td>\n",
       "      <td>7</td>\n",
       "      <td>0</td>\n",
       "      <td>0</td>\n",
       "      <td>0</td>\n",
       "      <td>0</td>\n",
       "      <td>0</td>\n",
       "      <td>0</td>\n",
       "      <td>...</td>\n",
       "      <td>0</td>\n",
       "      <td>0</td>\n",
       "      <td>0</td>\n",
       "      <td>0</td>\n",
       "      <td>0</td>\n",
       "      <td>0</td>\n",
       "      <td>0</td>\n",
       "      <td>0</td>\n",
       "      <td>0</td>\n",
       "      <td>0</td>\n",
       "    </tr>\n",
       "    <tr>\n",
       "      <th>1</th>\n",
       "      <td>2006</td>\n",
       "      <td>F</td>\n",
       "      <td>18.801</td>\n",
       "      <td>0</td>\n",
       "      <td>0</td>\n",
       "      <td>1</td>\n",
       "      <td>0</td>\n",
       "      <td>0</td>\n",
       "      <td>0</td>\n",
       "      <td>0</td>\n",
       "      <td>...</td>\n",
       "      <td>0</td>\n",
       "      <td>1</td>\n",
       "      <td>0</td>\n",
       "      <td>0</td>\n",
       "      <td>0</td>\n",
       "      <td>0</td>\n",
       "      <td>0</td>\n",
       "      <td>0</td>\n",
       "      <td>0</td>\n",
       "      <td>0</td>\n",
       "    </tr>\n",
       "    <tr>\n",
       "      <th>2</th>\n",
       "      <td>2006</td>\n",
       "      <td>M</td>\n",
       "      <td>18.335</td>\n",
       "      <td>69</td>\n",
       "      <td>0</td>\n",
       "      <td>1</td>\n",
       "      <td>0</td>\n",
       "      <td>0</td>\n",
       "      <td>0</td>\n",
       "      <td>0</td>\n",
       "      <td>...</td>\n",
       "      <td>0</td>\n",
       "      <td>0</td>\n",
       "      <td>0</td>\n",
       "      <td>0</td>\n",
       "      <td>0</td>\n",
       "      <td>0</td>\n",
       "      <td>0</td>\n",
       "      <td>1</td>\n",
       "      <td>0</td>\n",
       "      <td>0</td>\n",
       "    </tr>\n",
       "    <tr>\n",
       "      <th>3</th>\n",
       "      <td>2006</td>\n",
       "      <td>F</td>\n",
       "      <td>18.875</td>\n",
       "      <td>0</td>\n",
       "      <td>0</td>\n",
       "      <td>0</td>\n",
       "      <td>0</td>\n",
       "      <td>0</td>\n",
       "      <td>0</td>\n",
       "      <td>0</td>\n",
       "      <td>...</td>\n",
       "      <td>0</td>\n",
       "      <td>0</td>\n",
       "      <td>0</td>\n",
       "      <td>0</td>\n",
       "      <td>0</td>\n",
       "      <td>0</td>\n",
       "      <td>0</td>\n",
       "      <td>0</td>\n",
       "      <td>0</td>\n",
       "      <td>0</td>\n",
       "    </tr>\n",
       "    <tr>\n",
       "      <th>4</th>\n",
       "      <td>2006</td>\n",
       "      <td>NaN</td>\n",
       "      <td>18.995</td>\n",
       "      <td>10</td>\n",
       "      <td>0</td>\n",
       "      <td>0</td>\n",
       "      <td>0</td>\n",
       "      <td>0</td>\n",
       "      <td>0</td>\n",
       "      <td>0</td>\n",
       "      <td>...</td>\n",
       "      <td>0</td>\n",
       "      <td>0</td>\n",
       "      <td>2</td>\n",
       "      <td>0</td>\n",
       "      <td>0</td>\n",
       "      <td>0</td>\n",
       "      <td>0</td>\n",
       "      <td>0</td>\n",
       "      <td>1</td>\n",
       "      <td>1</td>\n",
       "    </tr>\n",
       "  </tbody>\n",
       "</table>\n",
       "<p>5 rows × 40 columns</p>\n",
       "</div>"
      ],
      "text/plain": [
       "   gradyear gender     age  friends  basketball  football  soccer  softball  \\\n",
       "0      2006      M  18.982        7           0         0       0         0   \n",
       "1      2006      F  18.801        0           0         1       0         0   \n",
       "2      2006      M  18.335       69           0         1       0         0   \n",
       "3      2006      F  18.875        0           0         0       0         0   \n",
       "4      2006    NaN  18.995       10           0         0       0         0   \n",
       "\n",
       "   volleyball  swimming  ...    blonde  mall  shopping  clothes  hollister  \\\n",
       "0           0         0  ...         0     0         0        0          0   \n",
       "1           0         0  ...         0     1         0        0          0   \n",
       "2           0         0  ...         0     0         0        0          0   \n",
       "3           0         0  ...         0     0         0        0          0   \n",
       "4           0         0  ...         0     0         2        0          0   \n",
       "\n",
       "   abercrombie  die  death  drunk  drugs  \n",
       "0            0    0      0      0      0  \n",
       "1            0    0      0      0      0  \n",
       "2            0    0      1      0      0  \n",
       "3            0    0      0      0      0  \n",
       "4            0    0      0      1      1  \n",
       "\n",
       "[5 rows x 40 columns]"
      ]
     },
     "execution_count": 931,
     "metadata": {},
     "output_type": "execute_result"
    }
   ],
   "source": [
    "df_sns = pd.read_csv('snsdata.csv', sep=',')\n",
    "df_sns.head()"
   ]
  },
  {
   "cell_type": "markdown",
   "metadata": {},
   "source": [
    "Данные устроены так: \n",
    "* Год выпуска\n",
    "* Пол\n",
    "* Возраст\n",
    "* Количество друзей\n",
    "* 36 ключевых слов, которые встречаются в профилe facebook (интересы, сообщества, встречи)"
   ]
  },
  {
   "cell_type": "markdown",
   "metadata": {},
   "source": [
    "* Удалите все признаки кроме 36 ключевых слов.\n",
    "* Нормализуйте данные - из каждого столбца вычтите его среднее значение и поделите на стандартное отклонение.\n",
    "* Используйте метод k-means чтобы выделить 9 кластеров\n",
    "* Попробуйте проинтерпретировать каждый кластер проанализировав полученные центройды (Некоторые кластеры могут быть очень большие и очень маленькие - плохо интерпретируются)   \n",
    "КОММЕНТАРИИ НЕ СТИРАТЬ!"
   ]
  },
  {
   "cell_type": "code",
   "execution_count": 932,
   "metadata": {},
   "outputs": [
    {
     "data": {
      "text/plain": [
       "Index(['gradyear', 'gender', 'age', 'friends', 'basketball', 'football',\n",
       "       'soccer', 'softball', 'volleyball', 'swimming', 'cheerleading',\n",
       "       'baseball', 'tennis', 'sports', 'cute', 'sex', 'sexy', 'hot', 'kissed',\n",
       "       'dance', 'band', 'marching', 'music', 'rock', 'god', 'church', 'jesus',\n",
       "       'bible', 'hair', 'dress', 'blonde', 'mall', 'shopping', 'clothes',\n",
       "       'hollister', 'abercrombie', 'die', 'death', 'drunk', 'drugs'],\n",
       "      dtype='object')"
      ]
     },
     "execution_count": 932,
     "metadata": {},
     "output_type": "execute_result"
    }
   ],
   "source": [
    "df_sns.columns"
   ]
  },
  {
   "cell_type": "code",
   "execution_count": 933,
   "metadata": {},
   "outputs": [
    {
     "data": {
      "text/plain": [
       "Index(['basketball', 'football', 'soccer', 'softball', 'volleyball',\n",
       "       'swimming', 'cheerleading', 'baseball', 'tennis', 'sports', 'cute',\n",
       "       'sex', 'sexy', 'hot', 'kissed', 'dance', 'band', 'marching', 'music',\n",
       "       'rock', 'god', 'church', 'jesus', 'bible', 'hair', 'dress', 'blonde',\n",
       "       'mall', 'shopping', 'clothes', 'hollister', 'abercrombie', 'die',\n",
       "       'death', 'drunk', 'drugs'],\n",
       "      dtype='object')"
      ]
     },
     "execution_count": 933,
     "metadata": {},
     "output_type": "execute_result"
    }
   ],
   "source": [
    "df_sns = df_sns.drop(['gradyear', 'gender', 'age', 'friends'], axis=1)\n",
    "df_sns.columns"
   ]
  },
  {
   "cell_type": "code",
   "execution_count": 847,
   "metadata": {},
   "outputs": [
    {
     "data": {
      "text/plain": [
       "36"
      ]
     },
     "execution_count": 847,
     "metadata": {},
     "output_type": "execute_result"
    }
   ],
   "source": [
    "df_sns.shape[1]"
   ]
  },
  {
   "cell_type": "code",
   "execution_count": 967,
   "metadata": {},
   "outputs": [],
   "source": [
    "X = df_sns.values\n",
    "scaler = preprocessing.StandardScaler()\n",
    "scaler.fit(X)\n",
    "X = scaler.transform(X)"
   ]
  },
  {
   "cell_type": "code",
   "execution_count": 949,
   "metadata": {},
   "outputs": [],
   "source": [
    "#%%pycodestyle\n",
    "\n",
    "\n",
    "def info(clf, X, n=5):\n",
    "    clf.fit(X)\n",
    "    clusters = np.argsort(np.bincount(clf.labels))[::-1]\n",
    "    j = 0\n",
    "    for i in clusters:\n",
    "        print('------------------------------------')\n",
    "        print(\"Кластер {}. \\nКоличество объектов: {}.\".format(\n",
    "            j+1, X[clf.labels == i].shape[0]))\n",
    "        j += 1\n",
    "        f = np.argsort(X[clf.labels == i].mean(axis=0))[-5:]\n",
    "        print(df_sns.columns[f].values)"
   ]
  },
  {
   "cell_type": "code",
   "execution_count": 950,
   "metadata": {},
   "outputs": [
    {
     "name": "stdout",
     "output_type": "stream",
     "text": [
      "------------------------------------\n",
      "Кластер 1. \n",
      "Количество объектов: 19564.\n",
      "['bible' 'death' 'jesus' 'tennis' 'blonde']\n",
      "------------------------------------\n",
      "Кластер 2. \n",
      "Количество объектов: 4438.\n",
      "['dress' 'mall' 'dance' 'cute' 'shopping']\n",
      "------------------------------------\n",
      "Кластер 3. \n",
      "Количество объектов: 1998.\n",
      "['sports' 'basketball' 'soccer' 'baseball' 'football']\n",
      "------------------------------------\n",
      "Кластер 4. \n",
      "Количество объектов: 924.\n",
      "['drunk' 'sex' 'hair' 'drugs' 'kissed']\n",
      "------------------------------------\n",
      "Кластер 5. \n",
      "Количество объектов: 839.\n",
      "['clothes' 'mall' 'shopping' 'abercrombie' 'hollister']\n",
      "------------------------------------\n",
      "Кластер 6. \n",
      "Количество объектов: 697.\n",
      "['softball' 'shopping' 'sports' 'basketball' 'volleyball']\n",
      "------------------------------------\n",
      "Кластер 7. \n",
      "Количество объектов: 571.\n",
      "['god' 'rock' 'music' 'band' 'marching']\n",
      "------------------------------------\n",
      "Кластер 8. \n",
      "Количество объектов: 486.\n",
      "['death' 'church' 'god' 'jesus' 'bible']\n",
      "------------------------------------\n",
      "Кластер 9. \n",
      "Количество объектов: 483.\n",
      "['shopping' 'volleyball' 'sports' 'basketball' 'softball']\n"
     ]
    }
   ],
   "source": [
    "## MyKMeans\n",
    "\n",
    "clf = MyKmeans(k=9)\n",
    "info(clf, X)"
   ]
  },
  {
   "cell_type": "code",
   "execution_count": 951,
   "metadata": {},
   "outputs": [
    {
     "name": "stdout",
     "output_type": "stream",
     "text": [
      "------------------------------------\n",
      "Кластер 1. \n",
      "Количество объектов: 19380.\n",
      "['drunk' 'death' 'jesus' 'tennis' 'blonde']\n",
      "------------------------------------\n",
      "Кластер 2. \n",
      "Количество объектов: 4336.\n",
      "['mall' 'dress' 'cute' 'dance' 'shopping']\n",
      "------------------------------------\n",
      "Кластер 3. \n",
      "Количество объектов: 2004.\n",
      "['basketball' 'sports' 'soccer' 'baseball' 'football']\n",
      "------------------------------------\n",
      "Кластер 4. \n",
      "Количество объектов: 908.\n",
      "['shopping' 'sports' 'basketball' 'volleyball' 'softball']\n",
      "------------------------------------\n",
      "Кластер 5. \n",
      "Количество объектов: 882.\n",
      "['drunk' 'sex' 'hair' 'drugs' 'kissed']\n",
      "------------------------------------\n",
      "Кластер 6. \n",
      "Количество объектов: 821.\n",
      "['clothes' 'mall' 'shopping' 'abercrombie' 'hollister']\n",
      "------------------------------------\n",
      "Кластер 7. \n",
      "Количество объектов: 613.\n",
      "['hot' 'mall' 'football' 'shopping' 'cheerleading']\n",
      "------------------------------------\n",
      "Кластер 8. \n",
      "Количество объектов: 543.\n",
      "['sex' 'hair' 'hot' 'cute' 'sexy']\n",
      "------------------------------------\n",
      "Кластер 9. \n",
      "Количество объектов: 513.\n",
      "['death' 'church' 'god' 'jesus' 'bible']\n"
     ]
    }
   ],
   "source": [
    "## MyKMeans++\n",
    "\n",
    "clf = MyKmeans(k=9, init='k-means')\n",
    "info(clf, X)"
   ]
  },
  {
   "cell_type": "code",
   "execution_count": 952,
   "metadata": {},
   "outputs": [
    {
     "name": "stdout",
     "output_type": "stream",
     "text": [
      "------------------------------------\n",
      "Кластер 1. \n",
      "Количество объектов: 19444.\n",
      "['cheerleading' 'tennis' 'bible' 'sexy' 'blonde']\n",
      "------------------------------------\n",
      "Кластер 2. \n",
      "Количество объектов: 2566.\n",
      "['baseball' 'soccer' 'softball' 'volleyball' 'basketball']\n",
      "------------------------------------\n",
      "Кластер 3. \n",
      "Количество объектов: 2460.\n",
      "['jesus' 'god' 'dance' 'dress' 'church']\n",
      "------------------------------------\n",
      "Кластер 4. \n",
      "Количество объектов: 1725.\n",
      "['shopping' 'football' 'tennis' 'abercrombie' 'hollister']\n",
      "------------------------------------\n",
      "Кластер 5. \n",
      "Количество объектов: 1307.\n",
      "['clothes' 'cute' 'shopping' 'death' 'mall']\n",
      "------------------------------------\n",
      "Кластер 6. \n",
      "Количество объектов: 825.\n",
      "['hair' 'sex' 'kissed' 'drunk' 'drugs']\n",
      "------------------------------------\n",
      "Кластер 7. \n",
      "Количество объектов: 612.\n",
      "['hair' 'rock' 'god' 'death' 'die']\n",
      "------------------------------------\n",
      "Кластер 8. \n",
      "Количество объектов: 586.\n",
      "['god' 'rock' 'music' 'band' 'marching']\n",
      "------------------------------------\n",
      "Кластер 9. \n",
      "Количество объектов: 475.\n",
      "['music' 'clothes' 'kissed' 'rock' 'hair']\n"
     ]
    }
   ],
   "source": [
    "## MyKMeans с MiniBatchMyKMeans\n",
    "\n",
    "clf = MyMiniBatchKmeans(k=9, batch_size=100)\n",
    "info(clf, X)"
   ]
  },
  {
   "cell_type": "code",
   "execution_count": 953,
   "metadata": {},
   "outputs": [
    {
     "name": "stdout",
     "output_type": "stream",
     "text": [
      "------------------------------------\n",
      "Кластер 1. \n",
      "Количество объектов: 21268.\n",
      "['soccer' 'swimming' 'sexy' 'tennis' 'blonde']\n",
      "------------------------------------\n",
      "Кластер 2. \n",
      "Количество объектов: 3101.\n",
      "['cute' 'mall' 'abercrombie' 'hollister' 'shopping']\n",
      "------------------------------------\n",
      "Кластер 3. \n",
      "Количество объектов: 2340.\n",
      "['soccer' 'sports' 'baseball' 'basketball' 'football']\n",
      "------------------------------------\n",
      "Кластер 4. \n",
      "Количество объектов: 1054.\n",
      "['drunk' 'sex' 'hair' 'drugs' 'kissed']\n",
      "------------------------------------\n",
      "Кластер 5. \n",
      "Количество объектов: 619.\n",
      "['rock' 'music' 'god' 'die' 'death']\n",
      "------------------------------------\n",
      "Кластер 6. \n",
      "Количество объектов: 614.\n",
      "['music' 'church' 'god' 'jesus' 'bible']\n",
      "------------------------------------\n",
      "Кластер 7. \n",
      "Количество объектов: 492.\n",
      "['shopping' 'sports' 'volleyball' 'basketball' 'softball']\n",
      "------------------------------------\n",
      "Кластер 8. \n",
      "Количество объектов: 381.\n",
      "['church' 'rock' 'music' 'band' 'marching']\n",
      "------------------------------------\n",
      "Кластер 9. \n",
      "Количество объектов: 131.\n",
      "['sexy' 'dress' 'music' 'marching' 'band']\n"
     ]
    }
   ],
   "source": [
    "## MyKMeans++ с MiniBatchMyKMeans\n",
    "\n",
    "clf = MyMiniBatchKmeans(k=9, batch_size=100, init='k-means')\n",
    "info(clf, X)"
   ]
  },
  {
   "cell_type": "markdown",
   "metadata": {},
   "source": [
    "## Вывод\n",
    "Не все из получившихся кластеров хорошо интерпретируются. Это может говорить о том, что предположение о 9 кластерах в наших данных - неверное. При этом любой из алгоритмов подразумевает случайность (инициализация центроидов, выборка батчей). Возможно, чтобы выбрать наиболее стабильные и выделяющиеся кластеры, нужно для каждого алгоритма провести несколько реализаций и посмотреть, какие кластеры из раза в раз состоят из одних и тех же объектов.\n",
    "\n",
    "Что касается разных методов, можно увидеть следующее:\n",
    "\n",
    "- варианты с мини-батчами быстрее, и чем меньше размер батча, тем быстрее работает алгоритм при неизменном числе итераций. При этом сходимость за итерацию медленее (так как корректируем центроиды только по небольшой выборке)\n",
    "- k-means++ дает более непохожие кластеры, так как изначально дальше друг от друга инициализируются центроиды. В целом, k-means++ формирует геометрически лучше отделяемые кластеры, что соответствует нашей интуиции, но не всегда отражает истинные закономерности в данных.\n",
    "\n",
    "В целом, тяжело говорить о качестве того или иного метода в задаче кластеризации. Можно рассуждать на тему того, насколько кластеры соответствуют нашим ожиданиям и как хорошо мы можем их интерпретировать. Сложность в том, что не всегда наша интуиция ожидает решение, которое оптимизирует сумму расстояний до центроидов."
   ]
  }
 ],
 "metadata": {
  "anaconda-cloud": {},
  "kernelspec": {
   "display_name": "Python 3",
   "language": "python",
   "name": "python3"
  },
  "language_info": {
   "codemirror_mode": {
    "name": "ipython",
    "version": 3
   },
   "file_extension": ".py",
   "mimetype": "text/x-python",
   "name": "python",
   "nbconvert_exporter": "python",
   "pygments_lexer": "ipython3",
   "version": "3.7.0"
  },
  "nav_menu": {},
  "toc": {
   "navigate_menu": true,
   "number_sections": false,
   "sideBar": true,
   "threshold": 6,
   "toc_cell": false,
   "toc_section_display": "block",
   "toc_window_display": true
  }
 },
 "nbformat": 4,
 "nbformat_minor": 2
}
